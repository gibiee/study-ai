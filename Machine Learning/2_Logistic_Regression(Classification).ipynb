{
  "nbformat": 4,
  "nbformat_minor": 0,
  "metadata": {
    "colab": {
      "name": "2_Logistic Regression(Classification)",
      "provenance": [],
      "collapsed_sections": [],
      "authorship_tag": "ABX9TyOEa13tI7m3WwAu94kic7tG",
      "include_colab_link": true
    },
    "kernelspec": {
      "name": "python3",
      "display_name": "Python 3"
    }
  },
  "cells": [
    {
      "cell_type": "markdown",
      "metadata": {
        "id": "view-in-github",
        "colab_type": "text"
      },
      "source": [
        "<a href=\"https://colab.research.google.com/github/gibiee/study_AI/blob/master/Machine%20Learning/2_Logistic_Regression(Classification).ipynb\" target=\"_parent\"><img src=\"https://colab.research.google.com/assets/colab-badge.svg\" alt=\"Open In Colab\"/></a>"
      ]
    },
    {
      "cell_type": "code",
      "metadata": {
        "id": "aFloS6EEYI0I",
        "colab_type": "code",
        "colab": {}
      },
      "source": [
        "x_train = [[1., 2.],\n",
        "           [2., 3.],\n",
        "           [3., 1.],\n",
        "           [4., 3.],\n",
        "           [5., 3.],\n",
        "           [6., 2.]]\n",
        "y_train = [[0.],\n",
        "           [0.],\n",
        "           [0.],\n",
        "           [1.],\n",
        "           [1.],\n",
        "           [1.]]       \n",
        "\n",
        "x_test = [[5., 2.]]\n",
        "y_test = [[1.]]\n",
        "# 점(.)을 사용하지 않을 시, InvalidArgumentError 발생\n",
        "# cannot compute MatMul as input #1(zero-based) was expected to be a int32 tensor but is a float tensor [Op:MatMul]"
      ],
      "execution_count": 0,
      "outputs": []
    },
    {
      "cell_type": "code",
      "metadata": {
        "id": "Qn5oWvQSYpeG",
        "colab_type": "code",
        "colab": {
          "base_uri": "https://localhost:8080/",
          "height": 295
        },
        "outputId": "4c004e1d-d0e6-4864-a8a5-a4ba0456aea2"
      },
      "source": [
        "# 데이터에 대한 산점도\n",
        "# 초록색 점이 0에 속하는지 1에 속하는지 판단하고자 하는 것이 목적.\n",
        "import matplotlib.pyplot as plt\n",
        "plot_x = [x[0] for x in x_train]\n",
        "plot_y = [x[1] for x in x_train]\n",
        "colors = ['r' if y[0] == 0 else 'b' for y in y_train]\n",
        "plt.scatter(plot_x, plot_y, color=colors)\n",
        "plt.scatter(x_test[0][0], x_test[0][1], color='g')\n",
        "plt.xlabel(\"x values\")\n",
        "plt.ylabel(\"y values\")\n",
        "plt.title(\"red = 0, blue = 1\")\n",
        "plt.show()"
      ],
      "execution_count": 104,
      "outputs": [
        {
          "output_type": "display_data",
          "data": {
            "image/png": "[encoded data removed]",
            "text/plain": [
              "<Figure size 432x288 with 1 Axes>"
            ]
          },
          "metadata": {
            "tags": [],
            "needs_background": "light"
          }
        }
      ]
    },
    {
      "cell_type": "code",
      "metadata": {
        "id": "xzjQweT0anUj",
        "colab_type": "code",
        "colab": {}
      },
      "source": [
        "import tensorflow as tf\n",
        "dataset = tf.data.Dataset.from_tensor_slices((x_train, y_train)).batch(len(x_train))\n",
        "W = tf.Variable(tf.zeros([2,1]), name='weight')\n",
        "b = tf.Variable(tf.zeros([1]), name='bias')"
      ],
      "execution_count": 0,
      "outputs": []
    },
    {
      "cell_type": "code",
      "metadata": {
        "id": "qwYtBhB0Zc58",
        "colab_type": "code",
        "colab": {}
      },
      "source": [
        "# Logistic Regression 수식을 정의.\n",
        "def logistic_regression(features) :\n",
        "    hypothesis = tf.divide(1., 1. + tf.exp(tf.matmul(features, W) + b))\n",
        "    return hypothesis\n",
        "\n",
        "# cost 구하는 수식을 정의.\n",
        "def loss_fn(hypothesis, features, labels) :\n",
        "    cost = -tf.reduce_mean(labels * tf.math.log(logistic_regression(features)) +\n",
        "                           (1 - labels) * tf.math.log(1 - hypothesis))\n",
        "    return cost\n",
        "\n",
        "# 경사하강법을 정의. (한 번 하강)\n",
        "def grad(features, labels) :\n",
        "    with tf.GradientTape() as tape : \n",
        "        loss_value = loss_fn(logistic_regression(features), features, labels)\n",
        "    return tape.gradient(loss_value, [W,b])\n",
        "\n",
        "# 최종적으로 정답과 예측값의 정확도를 계산.\n",
        "def accuracy_fn(hypothesis, labels) :\n",
        "    predicted = tf.cast(hypothesis > 0.5, dtype=tf.float32)\n",
        "    accuracy = tf.reduce_mean(tf.cast(tf.equal(predicted, labels), dtype=tf.int32))\n",
        "    return accuracy"
      ],
      "execution_count": 0,
      "outputs": []
    },
    {
      "cell_type": "code",
      "metadata": {
        "id": "La9E7JDZxFpl",
        "colab_type": "code",
        "colab": {
          "base_uri": "https://localhost:8080/",
          "height": 215
        },
        "outputId": "acfa9749-5e30-4fdc-c8ac-a6054c764391"
      },
      "source": [
        "optimizer = tf.keras.optimizers.SGD(learning_rate = 0.01)\n",
        "EPOCHS = 1000\n",
        "for step in range(EPOCHS) :\n",
        "    for features, labels in iter(dataset) :\n",
        "        grads = grad(features, labels)\n",
        "        optimizer.apply_gradients(grads_and_vars=zip(grads, [W,b]))\n",
        "        if (step+1) % 100 == 0 :\n",
        "            print(f\"Step : {step+1}, Loss : {loss_fn(logistic_regression(features), features, labels):.4f}\")\n",
        "\n",
        "test_acc = accuracy_fn(logistic_regression(x_test), y_test)\n",
        "print(f\"Testset Accuracy : {test_acc:.4f}\")"
      ],
      "execution_count": 108,
      "outputs": [
        {
          "output_type": "stream",
          "text": [
            "Step : 100, Loss : 0.4067\n",
            "Step : 200, Loss : 0.3993\n",
            "Step : 300, Loss : 0.3923\n",
            "Step : 400, Loss : 0.3855\n",
            "Step : 500, Loss : 0.3790\n",
            "Step : 600, Loss : 0.3728\n",
            "Step : 700, Loss : 0.3667\n",
            "Step : 800, Loss : 0.3609\n",
            "Step : 900, Loss : 0.3552\n",
            "Step : 1000, Loss : 0.3496\n",
            "Testset Accuracy : 1.0000\n"
          ],
          "name": "stdout"
        }
      ]
    }
  ]
}