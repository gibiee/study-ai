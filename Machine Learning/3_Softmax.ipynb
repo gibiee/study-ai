{
  "nbformat": 4,
  "nbformat_minor": 0,
  "metadata": {
    "colab": {
      "name": "3_Softmax",
      "provenance": [],
      "collapsed_sections": [],
      "authorship_tag": "ABX9TyPwgq7qAimRbQ9fXUntxS76",
      "include_colab_link": true
    },
    "kernelspec": {
      "name": "python3",
      "display_name": "Python 3"
    }
  },
  "cells": [
    {
      "cell_type": "markdown",
      "metadata": {
        "id": "view-in-github",
        "colab_type": "text"
      },
      "source": [
        "<a href=\"https://colab.research.google.com/github/gibiee/study_AI/blob/master/Machine%20Learning/3_Softmax.ipynb\" target=\"_parent\"><img src=\"https://colab.research.google.com/assets/colab-badge.svg\" alt=\"Open In Colab\"/></a>"
      ]
    },
    {
      "cell_type": "code",
      "metadata": {
        "id": "iXgiy4KFgUaz",
        "colab_type": "code",
        "colab": {}
      },
      "source": [
        "import tensorflow as tf\n",
        "import numpy as np\n",
        "\n",
        "x_data = [[1, 2, 1, 1],\n",
        "          [2, 1, 3, 2],\n",
        "          [3, 1, 3, 4],\n",
        "          [4, 1, 5, 5],\n",
        "          [1, 7, 5, 5],\n",
        "          [1, 2, 5, 6],\n",
        "          [1, 6, 6, 6],\n",
        "          [1, 7, 7, 7]]\n",
        "y_data = [[0, 0, 1],\n",
        "          [0, 0, 1],\n",
        "          [0, 0, 1],\n",
        "          [0, 1, 0],\n",
        "          [0, 1, 0],\n",
        "          [0, 1, 0],\n",
        "          [1, 0, 0],\n",
        "          [1, 0, 0]]\n",
        "\n",
        "x_data = np.asarray(x_data, dtype=np.float32)\n",
        "y_data = np.asarray(y_data, dtype=np.float32)"
      ],
      "execution_count": 0,
      "outputs": []
    },
    {
      "cell_type": "code",
      "metadata": {
        "id": "-Xn5S87lhJlT",
        "colab_type": "code",
        "colab": {}
      },
      "source": [
        "nb_classes = 3\n",
        "\n",
        "W = tf.Variable(tf.random.normal((4, nb_classes)), name='weight')\n",
        "b = tf.Variable(tf.random.normal((nb_classes,)), name='bias')\n",
        "variables = [W, b]"
      ],
      "execution_count": 0,
      "outputs": []
    },
    {
      "cell_type": "code",
      "metadata": {
        "id": "221s59brhcpI",
        "colab_type": "code",
        "colab": {}
      },
      "source": [
        "def hypothesis(X):\n",
        "    return tf.nn.softmax(tf.matmul(X, W) + b)\n",
        "\n",
        "def cost_fn(X, Y):\n",
        "    logits = hypothesis(X)\n",
        "    cost = -tf.reduce_sum(Y * tf.math.log(logits), axis=1)\n",
        "    cost_mean = tf.reduce_mean(cost)\n",
        "    \n",
        "    return cost_mean\n",
        "\n",
        "def grad_fn(X, Y):\n",
        "    with tf.GradientTape() as tape:\n",
        "        loss = cost_fn(X, Y)\n",
        "        grads = tape.gradient(loss, variables)\n",
        "\n",
        "    return grads"
      ],
      "execution_count": 0,
      "outputs": []
    },
    {
      "cell_type": "code",
      "metadata": {
        "id": "fHziAgkkhrYD",
        "colab_type": "code",
        "colab": {
          "base_uri": "https://localhost:8080/",
          "height": 215
        },
        "outputId": "11955bfb-84c0-48ce-d298-c0433def5459"
      },
      "source": [
        "optimizer =  tf.keras.optimizers.SGD(learning_rate=0.1)\n",
        "\n",
        "epochs = 1000\n",
        "for i in range(epochs):\n",
        "    grads = grad_fn(x_data, y_data)\n",
        "    optimizer.apply_gradients(zip(grads, variables))\n",
        "    if i == 0 or (i+1) % 100 == 0:\n",
        "        print('Loss at epoch %d: %f' %(i+1, cost_fn(x_data, y_data).numpy()))"
      ],
      "execution_count": 43,
      "outputs": [
        {
          "output_type": "stream",
          "text": [
            "Loss at epoch 1: 3.154977\n",
            "Loss at epoch 100: 0.643107\n",
            "Loss at epoch 200: 0.577626\n",
            "Loss at epoch 300: 0.528178\n",
            "Loss at epoch 400: 0.485983\n",
            "Loss at epoch 500: 0.447827\n",
            "Loss at epoch 600: 0.412047\n",
            "Loss at epoch 700: 0.377461\n",
            "Loss at epoch 800: 0.343054\n",
            "Loss at epoch 900: 0.307969\n",
            "Loss at epoch 1000: 0.272325\n"
          ],
          "name": "stdout"
        }
      ]
    },
    {
      "cell_type": "code",
      "metadata": {
        "id": "CBkhVFrMhrkj",
        "colab_type": "code",
        "colab": {
          "base_uri": "https://localhost:8080/",
          "height": 215
        },
        "outputId": "dce33c0b-743e-45ca-b651-28f9c909c9ef"
      },
      "source": [
        "# x_data를 입력으로 하여 y를 예측\n",
        "predict_y = hypothesis(x_data)\n",
        "print(predict_y)\n",
        "print(tf.argmax(predict_y, 1))  # 예측값\n",
        "print(tf.argmax(y_data, 1)) # 실제 정답값"
      ],
      "execution_count": 44,
      "outputs": [
        {
          "output_type": "stream",
          "text": [
            "tf.Tensor(\n",
            "[[2.8888084e-05 7.8096115e-03 9.9216145e-01]\n",
            " [2.5788412e-04 1.3716571e-01 8.6257637e-01]\n",
            " [1.8078650e-05 2.8598225e-01 7.1399969e-01]\n",
            " [2.9589051e-05 8.1423968e-01 1.8573070e-01]\n",
            " [2.8631273e-01 6.9539034e-01 1.8296819e-02]\n",
            " [1.4595546e-01 8.5379475e-01 2.4976427e-04]\n",
            " [5.0322771e-01 4.9637780e-01 3.9456342e-04]\n",
            " [7.6150030e-01 2.3848020e-01 1.9510186e-05]], shape=(8, 3), dtype=float32)\n",
            "tf.Tensor([2 2 2 1 1 1 0 0], shape=(8,), dtype=int64)\n",
            "tf.Tensor([2 2 2 1 1 1 0 0], shape=(8,), dtype=int64)\n"
          ],
          "name": "stdout"
        }
      ]
    },
    {
      "cell_type": "markdown",
      "metadata": {
        "id": "NdsiJkMHk86K",
        "colab_type": "text"
      },
      "source": [
        "# **클래스로 구현하여 간단하게 동작시키기**"
      ]
    },
    {
      "cell_type": "code",
      "metadata": {
        "id": "lToAFzkGkni4",
        "colab_type": "code",
        "colab": {
          "base_uri": "https://localhost:8080/",
          "height": 107
        },
        "outputId": "cc82d9e8-9e8f-4905-f886-d04bdea76aaf"
      },
      "source": [
        "class softmax_classifer(tf.keras.Model):\n",
        "    def __init__(self, nb_classes):\n",
        "        super(softmax_classifer, self).__init__()\n",
        "        self.W = tf.Variable(tf.random.normal((4, nb_classes)), name='weight')\n",
        "        self.b = tf.Variable(tf.random.normal((nb_classes,)), name='bias')\n",
        "        \n",
        "    def softmax_regression(self, X):\n",
        "        return tf.nn.softmax(tf.matmul(X, self.W) + self.b)\n",
        "    \n",
        "    def cost_fn(self, X, Y):\n",
        "        logits = self.softmax_regression(X)\n",
        "        cost = tf.reduce_mean(-tf.reduce_sum(Y * tf.math.log(logits), axis=1))        \n",
        "        return cost\n",
        "    \n",
        "    def grad_fn(self, X, Y):\n",
        "        with tf.GradientTape() as tape:\n",
        "            cost = self.cost_fn(x_data, y_data)\n",
        "            grads = tape.gradient(cost, self.variables)            \n",
        "            return grads\n",
        "    \n",
        "    def fit(self, X, Y, epochs=2000, verbose=500):\n",
        "        optimizer =  tf.keras.optimizers.SGD(learning_rate=0.1)\n",
        "\n",
        "        for i in range(epochs):\n",
        "            grads = self.grad_fn(X, Y)\n",
        "            optimizer.apply_gradients(zip(grads, self.variables))\n",
        "            if (i==0) | ((i+1)%verbose==0):\n",
        "                print('Loss at epoch %d: %f' %(i+1, self.cost_fn(X, Y).numpy()))\n",
        "            \n",
        "model = softmax_classifer(nb_classes)\n",
        "model.fit(x_data, y_data)"
      ],
      "execution_count": 45,
      "outputs": [
        {
          "output_type": "stream",
          "text": [
            "Loss at epoch 1: 3.808221\n",
            "Loss at epoch 500: 0.471691\n",
            "Loss at epoch 1000: 0.288607\n",
            "Loss at epoch 1500: 0.205475\n",
            "Loss at epoch 2000: 0.167571\n"
          ],
          "name": "stdout"
        }
      ]
    }
  ]
}