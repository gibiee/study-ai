{
  "nbformat": 4,
  "nbformat_minor": 0,
  "metadata": {
    "colab": {
      "name": "3_Softmax",
      "provenance": [],
      "collapsed_sections": [],
      "authorship_tag": "ABX9TyOmvsdcVxZ6OLuKEYrS+509",
      "include_colab_link": true
    },
    "kernelspec": {
      "name": "python3",
      "display_name": "Python 3"
    }
  },
  "cells": [
    {
      "cell_type": "markdown",
      "metadata": {
        "id": "view-in-github",
        "colab_type": "text"
      },
      "source": [
        "<a href=\"https://colab.research.google.com/github/gibiee/study_AI/blob/master/Machine%20Learning/3_Softmax.ipynb\" target=\"_parent\"><img src=\"https://colab.research.google.com/assets/colab-badge.svg\" alt=\"Open In Colab\"/></a>"
      ]
    },
    {
      "cell_type": "code",
      "metadata": {
        "id": "iXgiy4KFgUaz",
        "colab_type": "code",
        "colab": {}
      },
      "source": [
        "import tensorflow as tf\n",
        "import numpy as np\n",
        "\n",
        "x_data = [[1, 2, 1, 1],\n",
        "          [2, 1, 3, 2],\n",
        "          [3, 1, 3, 4],\n",
        "          [4, 1, 5, 5],\n",
        "          [1, 7, 5, 5],\n",
        "          [1, 2, 5, 6],\n",
        "          [1, 6, 6, 6],\n",
        "          [1, 7, 7, 7]]\n",
        "y_data = [[0, 0, 1],\n",
        "          [0, 0, 1],\n",
        "          [0, 0, 1],\n",
        "          [0, 1, 0],\n",
        "          [0, 1, 0],\n",
        "          [0, 1, 0],\n",
        "          [1, 0, 0],\n",
        "          [1, 0, 0]]\n",
        "\n",
        "x_data = np.asarray(x_data, dtype=np.float32)\n",
        "y_data = np.asarray(y_data, dtype=np.float32)"
      ],
      "execution_count": 0,
      "outputs": []
    },
    {
      "cell_type": "code",
      "metadata": {
        "id": "-Xn5S87lhJlT",
        "colab_type": "code",
        "colab": {}
      },
      "source": [
        "nb_classes = 3\n",
        "\n",
        "W = tf.Variable(tf.random.normal((4, nb_classes)), name='weight')\n",
        "b = tf.Variable(tf.random.normal((nb_classes,)), name='bias')\n",
        "variables = [W, b]"
      ],
      "execution_count": 0,
      "outputs": []
    },
    {
      "cell_type": "code",
      "metadata": {
        "id": "221s59brhcpI",
        "colab_type": "code",
        "colab": {}
      },
      "source": [
        "def logit_fn(X) :\n",
        "    return tf.matmul(X, W) + b\n",
        "    \n",
        "def hypothesis(X): # = softmax\n",
        "    return tf.nn.softmax(logit_fn(X))\n",
        "\n",
        "def cost_fn(X, Y):\n",
        "    # cost = tf.reduce_mean(-tf.reduce_sum(Y * tf.math.log(hypothesis(X)), axis=1)) # 아래와 같은 작업을 수행.\n",
        "    cost = tf.reduce_mean(tf.keras.losses.categorical_crossentropy(y_true=Y, y_pred=logit_fn(X), from_logits=True))\n",
        "    \n",
        "    return cost\n",
        "\n",
        "def grad_fn(X, Y):\n",
        "    with tf.GradientTape() as tape:\n",
        "        loss = cost_fn(X, Y)\n",
        "        grads = tape.gradient(loss, variables)\n",
        "\n",
        "    return grads"
      ],
      "execution_count": 0,
      "outputs": []
    },
    {
      "cell_type": "code",
      "metadata": {
        "id": "fHziAgkkhrYD",
        "colab_type": "code",
        "outputId": "ce08bed1-06d5-432f-99f9-a616a4768ea5",
        "colab": {
          "base_uri": "https://localhost:8080/",
          "height": 215
        }
      },
      "source": [
        "optimizer =  tf.keras.optimizers.SGD(learning_rate=0.1)\n",
        "\n",
        "epochs = 1000\n",
        "for i in range(epochs):\n",
        "    grads = grad_fn(x_data, y_data)\n",
        "    optimizer.apply_gradients(zip(grads, variables))\n",
        "    if i == 0 or (i+1) % 100 == 0:\n",
        "        print('Loss at epoch %d: %f' %(i+1, cost_fn(x_data, y_data).numpy()))"
      ],
      "execution_count": 4,
      "outputs": [
        {
          "output_type": "stream",
          "text": [
            "Loss at epoch 1: 5.432341\n",
            "Loss at epoch 100: 0.739733\n",
            "Loss at epoch 200: 0.653553\n",
            "Loss at epoch 300: 0.594769\n",
            "Loss at epoch 400: 0.546450\n",
            "Loss at epoch 500: 0.503857\n",
            "Loss at epoch 600: 0.464986\n",
            "Loss at epoch 700: 0.428627\n",
            "Loss at epoch 800: 0.393806\n",
            "Loss at epoch 900: 0.359593\n",
            "Loss at epoch 1000: 0.325081\n"
          ],
          "name": "stdout"
        }
      ]
    },
    {
      "cell_type": "code",
      "metadata": {
        "id": "CBkhVFrMhrkj",
        "colab_type": "code",
        "outputId": "ff60c2db-7f7f-4cf2-80d6-6554049236a6",
        "colab": {
          "base_uri": "https://localhost:8080/",
          "height": 215
        }
      },
      "source": [
        "# x_data를 입력으로 하여 y를 예측\n",
        "predict_y = hypothesis(x_data)\n",
        "print(predict_y)\n",
        "print(tf.argmax(predict_y, 1))  # 예측값\n",
        "print(tf.argmax(y_data, 1)) # 실제 정답값"
      ],
      "execution_count": 5,
      "outputs": [
        {
          "output_type": "stream",
          "text": [
            "tf.Tensor(\n",
            "[[9.3779199e-05 8.0203656e-03 9.9188590e-01]\n",
            " [5.5953494e-04 1.6451599e-01 8.3492446e-01]\n",
            " [7.1017885e-06 3.4666851e-01 6.5332437e-01]\n",
            " [5.1241118e-06 8.2915682e-01 1.7083804e-01]\n",
            " [2.4268119e-01 7.3723841e-01 2.0080443e-02]\n",
            " [1.1184762e-01 8.8812292e-01 2.9423183e-05]\n",
            " [4.1117954e-01 5.8860505e-01 2.1537689e-04]\n",
            " [6.1456454e-01 3.8542199e-01 1.3447621e-05]], shape=(8, 3), dtype=float32)\n",
            "tf.Tensor([2 2 2 1 1 1 1 0], shape=(8,), dtype=int64)\n",
            "tf.Tensor([2 2 2 1 1 1 0 0], shape=(8,), dtype=int64)\n"
          ],
          "name": "stdout"
        }
      ]
    },
    {
      "cell_type": "markdown",
      "metadata": {
        "id": "NdsiJkMHk86K",
        "colab_type": "text"
      },
      "source": [
        "# **클래스로 구현하여 간단하게 동작시키기**"
      ]
    },
    {
      "cell_type": "code",
      "metadata": {
        "id": "lToAFzkGkni4",
        "colab_type": "code",
        "outputId": "5d208023-3a10-4c79-e34b-dd25f0d9d5d4",
        "colab": {
          "base_uri": "https://localhost:8080/",
          "height": 107
        }
      },
      "source": [
        "class softmax_classifer(tf.keras.Model):\n",
        "    def __init__(self, nb_classes):\n",
        "        super(softmax_classifer, self).__init__()\n",
        "        self.W = tf.Variable(tf.random.normal((4, nb_classes)), name='weight')\n",
        "        self.b = tf.Variable(tf.random.normal((nb_classes,)), name='bias')\n",
        "    \n",
        "    def softmax_regression(self, X):\n",
        "        return tf.nn.softmax(tf.matmul(X, self.W) + self.b)\n",
        "    \n",
        "    def cost_fn(self, X, Y):\n",
        "        logits = self.softmax_regression(X)\n",
        "        cost = tf.reduce_mean(-tf.reduce_sum(Y * tf.math.log(logits), axis=1))\n",
        "        return cost\n",
        "    \n",
        "    def grad_fn(self, X, Y):\n",
        "        with tf.GradientTape() as tape:\n",
        "            cost = self.cost_fn(x_data, y_data)\n",
        "            grads = tape.gradient(cost, self.variables)            \n",
        "            return grads\n",
        "    \n",
        "    def fit(self, X, Y, epochs=2000, verbose=500):\n",
        "        optimizer =  tf.keras.optimizers.SGD(learning_rate=0.1)\n",
        "\n",
        "        for i in range(epochs):\n",
        "            grads = self.grad_fn(X, Y)\n",
        "            optimizer.apply_gradients(zip(grads, self.variables))\n",
        "            if (i==0) | ((i+1)%verbose==0):\n",
        "                print('Loss at epoch %d: %f' %(i+1, self.cost_fn(X, Y).numpy()))\n",
        "            \n",
        "model = softmax_classifer(nb_classes)\n",
        "model.fit(x_data, y_data)"
      ],
      "execution_count": 14,
      "outputs": [
        {
          "output_type": "stream",
          "text": [
            "Loss at epoch 1: 1.476454\n",
            "Loss at epoch 500: 0.512035\n",
            "Loss at epoch 1000: 0.293589\n",
            "Loss at epoch 1500: 0.206322\n",
            "Loss at epoch 2000: 0.169160\n"
          ],
          "name": "stdout"
        }
      ]
    }
  ]
}