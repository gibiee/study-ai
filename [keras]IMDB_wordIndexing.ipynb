{
  "nbformat": 4,
  "nbformat_minor": 0,
  "metadata": {
    "colab": {
      "name": "[keras]IMDB_word index",
      "provenance": [],
      "collapsed_sections": [],
      "authorship_tag": "ABX9TyNsHohz7z4KgrC8MUr+IVDf",
      "include_colab_link": true
    },
    "kernelspec": {
      "name": "python3",
      "display_name": "Python 3"
    }
  },
  "cells": [
    {
      "cell_type": "markdown",
      "metadata": {
        "id": "view-in-github",
        "colab_type": "text"
      },
      "source": [
        "<a href=\"https://colab.research.google.com/github/gibiee/study_AI/blob/master/%5Bkeras%5DIMDB_word%20index.ipynb\" target=\"_parent\"><img src=\"https://colab.research.google.com/assets/colab-badge.svg\" alt=\"Open In Colab\"/></a>"
      ]
    },
    {
      "cell_type": "code",
      "metadata": {
        "id": "YOOg959aTZu7",
        "colab_type": "code",
        "colab": {
          "base_uri": "https://localhost:8080/",
          "height": 35
        },
        "outputId": "79dc99fc-8fd7-4cc6-dc81-c875a9c67131"
      },
      "source": [
        "import tensorflow as tf\n",
        "from tensorflow import keras\n",
        "\n",
        "import numpy as np\n",
        "\n",
        "print(tf.__version__)"
      ],
      "execution_count": 1,
      "outputs": [
        {
          "output_type": "stream",
          "text": [
            "2.2.0\n"
          ],
          "name": "stdout"
        }
      ]
    },
    {
      "cell_type": "code",
      "metadata": {
        "id": "_1qenZNvTldm",
        "colab_type": "code",
        "colab": {
          "base_uri": "https://localhost:8080/",
          "height": 53
        },
        "outputId": "54926cda-ffcb-4218-8c6e-36c3e11ca709"
      },
      "source": [
        "imdb = keras.datasets.imdb\n",
        "(train_data, train_labels), (test_data, test_labels) = imdb.load_data(num_words=10000)"
      ],
      "execution_count": 2,
      "outputs": [
        {
          "output_type": "stream",
          "text": [
            "Downloading data from https://storage.googleapis.com/tensorflow/tf-keras-datasets/imdb.npz\n",
            "17465344/17464789 [==============================] - 0s 0us/step\n"
          ],
          "name": "stdout"
        }
      ]
    },
    {
      "cell_type": "code",
      "metadata": {
        "id": "qPuf5Mh7XCmi",
        "colab_type": "code",
        "colab": {
          "base_uri": "https://localhost:8080/",
          "height": 35
        },
        "outputId": "b054b988-b073-4d0b-dd1d-08a5c8a3d48d"
      },
      "source": [
        "print(\"훈련 샘플: {}, 레이블: {}\".format(len(train_data), len(train_labels)))"
      ],
      "execution_count": 3,
      "outputs": [
        {
          "output_type": "stream",
          "text": [
            "훈련 샘플: 25000, 레이블: 25000\n"
          ],
          "name": "stdout"
        }
      ]
    },
    {
      "cell_type": "code",
      "metadata": {
        "id": "iHwI0Y79XI8W",
        "colab_type": "code",
        "colab": {
          "base_uri": "https://localhost:8080/",
          "height": 55
        },
        "outputId": "236a9860-4c0e-4126-eb1f-e97710186dd8"
      },
      "source": [
        "print(train_data[0])"
      ],
      "execution_count": 4,
      "outputs": [
        {
          "output_type": "stream",
          "text": [
            "[1, 14, 22, 16, 43, 530, 973, 1622, 1385, 65, 458, 4468, 66, 3941, 4, 173, 36, 256, 5, 25, 100, 43, 838, 112, 50, 670, 2, 9, 35, 480, 284, 5, 150, 4, 172, 112, 167, 2, 336, 385, 39, 4, 172, 4536, 1111, 17, 546, 38, 13, 447, 4, 192, 50, 16, 6, 147, 2025, 19, 14, 22, 4, 1920, 4613, 469, 4, 22, 71, 87, 12, 16, 43, 530, 38, 76, 15, 13, 1247, 4, 22, 17, 515, 17, 12, 16, 626, 18, 2, 5, 62, 386, 12, 8, 316, 8, 106, 5, 4, 2223, 5244, 16, 480, 66, 3785, 33, 4, 130, 12, 16, 38, 619, 5, 25, 124, 51, 36, 135, 48, 25, 1415, 33, 6, 22, 12, 215, 28, 77, 52, 5, 14, 407, 16, 82, 2, 8, 4, 107, 117, 5952, 15, 256, 4, 2, 7, 3766, 5, 723, 36, 71, 43, 530, 476, 26, 400, 317, 46, 7, 4, 2, 1029, 13, 104, 88, 4, 381, 15, 297, 98, 32, 2071, 56, 26, 141, 6, 194, 7486, 18, 4, 226, 22, 21, 134, 476, 26, 480, 5, 144, 30, 5535, 18, 51, 36, 28, 224, 92, 25, 104, 4, 226, 65, 16, 38, 1334, 88, 12, 16, 283, 5, 16, 4472, 113, 103, 32, 15, 16, 5345, 19, 178, 32]\n"
          ],
          "name": "stdout"
        }
      ]
    },
    {
      "cell_type": "code",
      "metadata": {
        "id": "GcEYdwPLXJCX",
        "colab_type": "code",
        "colab": {
          "base_uri": "https://localhost:8080/",
          "height": 35
        },
        "outputId": "862f305c-d0e7-4aee-ac33-582526be7892"
      },
      "source": [
        "len(train_data[0]), len(train_data[1])"
      ],
      "execution_count": 5,
      "outputs": [
        {
          "output_type": "execute_result",
          "data": {
            "text/plain": [
              "(218, 189)"
            ]
          },
          "metadata": {
            "tags": []
          },
          "execution_count": 5
        }
      ]
    },
    {
      "cell_type": "code",
      "metadata": {
        "id": "aJYfQ4F3XJIB",
        "colab_type": "code",
        "colab": {
          "base_uri": "https://localhost:8080/",
          "height": 53
        },
        "outputId": "4691dc32-2d6d-49c4-f06a-2d2a8f4a1d31"
      },
      "source": [
        "# 단어와 정수 인덱스를 매핑한 딕셔너리\n",
        "word_index = imdb.get_word_index()\n",
        "\n",
        "# 처음 몇 개 인덱스는 사전에 정의되어 있음.\n",
        "word_index = {k:(v+3) for k,v in word_index.items()}\n",
        "word_index[\"<PAD>\"] = 0\n",
        "word_index[\"<START>\"] = 1\n",
        "word_index[\"<UNK>\"] = 2  # unknown\n",
        "word_index[\"<UNUSED>\"] = 3\n",
        "\n",
        "reverse_word_index = dict([(value, key) for (key, value) in word_index.items()])\n",
        "\n",
        "def decode_review(text) :\n",
        "    return ' '.join([reverse_word_index.get(i, '?') for i in text])"
      ],
      "execution_count": 6,
      "outputs": [
        {
          "output_type": "stream",
          "text": [
            "Downloading data from https://storage.googleapis.com/tensorflow/tf-keras-datasets/imdb_word_index.json\n",
            "1646592/1641221 [==============================] - 0s 0us/step\n"
          ],
          "name": "stdout"
        }
      ]
    },
    {
      "cell_type": "code",
      "metadata": {
        "id": "eDjjr4ydXS_2",
        "colab_type": "code",
        "colab": {
          "base_uri": "https://localhost:8080/",
          "height": 89
        },
        "outputId": "1786ee22-a251-4d4d-96ac-1a3ed93b19f1"
      },
      "source": [
        "decode_review(train_data[0])"
      ],
      "execution_count": 7,
      "outputs": [
        {
          "output_type": "execute_result",
          "data": {
            "application/vnd.google.colaboratory.intrinsic": {
              "type": "string"
            },
            "text/plain": [
              "\"<START> this film was just brilliant casting location scenery story direction everyone's really suited the part they played and you could just imagine being there robert <UNK> is an amazing actor and now the same being director <UNK> father came from the same scottish island as myself so i loved the fact there was a real connection with this film the witty remarks throughout the film were great it was just brilliant so much that i bought the film as soon as it was released for <UNK> and would recommend it to everyone to watch and the fly fishing was amazing really cried at the end it was so sad and you know what they say if you cry at a film it must have been good and this definitely was also <UNK> to the two little boy's that played the <UNK> of norman and paul they were just brilliant children are often left out of the <UNK> list i think because the stars that play them all grown up are such a big profile for the whole film but these children are amazing and should be praised for what they have done don't you think the whole story was so lovely because it was true and was someone's life after all that was shared with us all\""
            ]
          },
          "metadata": {
            "tags": []
          },
          "execution_count": 7
        }
      ]
    },
    {
      "cell_type": "code",
      "metadata": {
        "id": "D9yvtC0gXTCU",
        "colab_type": "code",
        "colab": {}
      },
      "source": [
        "# 영화 리뷰의 길이가 같아야 하므로 pad_sequences 함수를 사용해 길이를 같게 맞춤.\n",
        "train_data = keras.preprocessing.sequence.pad_sequences(train_data,\n",
        "                                                        value=word_index[\"<PAD>\"],\n",
        "                                                        padding='post',\n",
        "                                                        maxlen=256)\n",
        "\n",
        "test_data = keras.preprocessing.sequence.pad_sequences(test_data,\n",
        "                                                       value=word_index[\"<PAD>\"],\n",
        "                                                       padding='post',\n",
        "                                                       maxlen=256)"
      ],
      "execution_count": 8,
      "outputs": []
    },
    {
      "cell_type": "code",
      "metadata": {
        "id": "XyAG5P_SXTLc",
        "colab_type": "code",
        "colab": {
          "base_uri": "https://localhost:8080/",
          "height": 35
        },
        "outputId": "fca7423e-7778-4b20-f6e5-64023e355737"
      },
      "source": [
        "len(train_data[0]), len(train_data[1])"
      ],
      "execution_count": 9,
      "outputs": [
        {
          "output_type": "execute_result",
          "data": {
            "text/plain": [
              "(256, 256)"
            ]
          },
          "metadata": {
            "tags": []
          },
          "execution_count": 9
        }
      ]
    },
    {
      "cell_type": "code",
      "metadata": {
        "id": "-XFDVgvdXTOC",
        "colab_type": "code",
        "colab": {
          "base_uri": "https://localhost:8080/",
          "height": 359
        },
        "outputId": "017d291d-da24-41d5-9ea9-347f09c042af"
      },
      "source": [
        "print(train_data[0])"
      ],
      "execution_count": 10,
      "outputs": [
        {
          "output_type": "stream",
          "text": [
            "[   1   14   22   16   43  530  973 1622 1385   65  458 4468   66 3941\n",
            "    4  173   36  256    5   25  100   43  838  112   50  670    2    9\n",
            "   35  480  284    5  150    4  172  112  167    2  336  385   39    4\n",
            "  172 4536 1111   17  546   38   13  447    4  192   50   16    6  147\n",
            " 2025   19   14   22    4 1920 4613  469    4   22   71   87   12   16\n",
            "   43  530   38   76   15   13 1247    4   22   17  515   17   12   16\n",
            "  626   18    2    5   62  386   12    8  316    8  106    5    4 2223\n",
            " 5244   16  480   66 3785   33    4  130   12   16   38  619    5   25\n",
            "  124   51   36  135   48   25 1415   33    6   22   12  215   28   77\n",
            "   52    5   14  407   16   82    2    8    4  107  117 5952   15  256\n",
            "    4    2    7 3766    5  723   36   71   43  530  476   26  400  317\n",
            "   46    7    4    2 1029   13  104   88    4  381   15  297   98   32\n",
            " 2071   56   26  141    6  194 7486   18    4  226   22   21  134  476\n",
            "   26  480    5  144   30 5535   18   51   36   28  224   92   25  104\n",
            "    4  226   65   16   38 1334   88   12   16  283    5   16 4472  113\n",
            "  103   32   15   16 5345   19  178   32    0    0    0    0    0    0\n",
            "    0    0    0    0    0    0    0    0    0    0    0    0    0    0\n",
            "    0    0    0    0    0    0    0    0    0    0    0    0    0    0\n",
            "    0    0    0    0]\n"
          ],
          "name": "stdout"
        }
      ]
    },
    {
      "cell_type": "code",
      "metadata": {
        "id": "vG2gSwimXTQc",
        "colab_type": "code",
        "colab": {
          "base_uri": "https://localhost:8080/",
          "height": 305
        },
        "outputId": "55818a39-b0c0-414b-e225-818c222ff353"
      },
      "source": [
        "# 입력 크기는 영화 리뷰 데이터셋에 적용된 어휘 사전의 크기입니다(10,000개의 단어)\n",
        "vocab_size = 10000\n",
        "\n",
        "model = keras.Sequential()\n",
        "model.add(keras.layers.Embedding(vocab_size, 16, input_shape=(None,)))\n",
        "model.add(keras.layers.GlobalAveragePooling1D())\n",
        "model.add(keras.layers.Dense(16, activation='relu'))\n",
        "model.add(keras.layers.Dense(1, activation='sigmoid'))\n",
        "\n",
        "model.summary()"
      ],
      "execution_count": 11,
      "outputs": [
        {
          "output_type": "stream",
          "text": [
            "Model: \"sequential\"\n",
            "_________________________________________________________________\n",
            "Layer (type)                 Output Shape              Param #   \n",
            "=================================================================\n",
            "embedding (Embedding)        (None, None, 16)          160000    \n",
            "_________________________________________________________________\n",
            "global_average_pooling1d (Gl (None, 16)                0         \n",
            "_________________________________________________________________\n",
            "dense (Dense)                (None, 16)                272       \n",
            "_________________________________________________________________\n",
            "dense_1 (Dense)              (None, 1)                 17        \n",
            "=================================================================\n",
            "Total params: 160,289\n",
            "Trainable params: 160,289\n",
            "Non-trainable params: 0\n",
            "_________________________________________________________________\n"
          ],
          "name": "stdout"
        }
      ]
    },
    {
      "cell_type": "code",
      "metadata": {
        "id": "XJ8dTLowXTSQ",
        "colab_type": "code",
        "colab": {}
      },
      "source": [
        "model.compile(optimizer='adam',\n",
        "              loss='binary_crossentropy',\n",
        "              metrics=['accuracy'])"
      ],
      "execution_count": 12,
      "outputs": []
    },
    {
      "cell_type": "code",
      "metadata": {
        "id": "5CV82t-ZXTUk",
        "colab_type": "code",
        "colab": {}
      },
      "source": [
        "x_val = train_data[:10000]\n",
        "partial_x_train = train_data[10000:]\n",
        "\n",
        "y_val = train_labels[:10000]\n",
        "partial_y_train = train_labels[10000:]"
      ],
      "execution_count": 13,
      "outputs": []
    },
    {
      "cell_type": "code",
      "metadata": {
        "id": "5pHt-2aFX7eK",
        "colab_type": "code",
        "colab": {
          "base_uri": "https://localhost:8080/",
          "height": 1000
        },
        "outputId": "383f7ac8-d723-416c-ac11-e3d2c1561fce"
      },
      "source": [
        "history = model.fit(partial_x_train,\n",
        "                    partial_y_train,\n",
        "                    epochs=40,\n",
        "                    batch_size=512,\n",
        "                    validation_data=(x_val, y_val),\n",
        "                    verbose=1)"
      ],
      "execution_count": 14,
      "outputs": [
        {
          "output_type": "stream",
          "text": [
            "Epoch 1/40\n",
            "30/30 [==============================] - 1s 26ms/step - loss: 0.6923 - accuracy: 0.5599 - val_loss: 0.6905 - val_accuracy: 0.5607\n",
            "Epoch 2/40\n",
            "30/30 [==============================] - 1s 21ms/step - loss: 0.6879 - accuracy: 0.6062 - val_loss: 0.6846 - val_accuracy: 0.7009\n",
            "Epoch 3/40\n",
            "30/30 [==============================] - 1s 21ms/step - loss: 0.6791 - accuracy: 0.7265 - val_loss: 0.6734 - val_accuracy: 0.6900\n",
            "Epoch 4/40\n",
            "30/30 [==============================] - 1s 21ms/step - loss: 0.6636 - accuracy: 0.7413 - val_loss: 0.6551 - val_accuracy: 0.7302\n",
            "Epoch 5/40\n",
            "30/30 [==============================] - 1s 21ms/step - loss: 0.6387 - accuracy: 0.7633 - val_loss: 0.6272 - val_accuracy: 0.7587\n",
            "Epoch 6/40\n",
            "30/30 [==============================] - 1s 21ms/step - loss: 0.6043 - accuracy: 0.7969 - val_loss: 0.5925 - val_accuracy: 0.7953\n",
            "Epoch 7/40\n",
            "30/30 [==============================] - 1s 21ms/step - loss: 0.5634 - accuracy: 0.8195 - val_loss: 0.5534 - val_accuracy: 0.8128\n",
            "Epoch 8/40\n",
            "30/30 [==============================] - 1s 21ms/step - loss: 0.5193 - accuracy: 0.8405 - val_loss: 0.5133 - val_accuracy: 0.8244\n",
            "Epoch 9/40\n",
            "30/30 [==============================] - 1s 19ms/step - loss: 0.4758 - accuracy: 0.8535 - val_loss: 0.4756 - val_accuracy: 0.8375\n",
            "Epoch 10/40\n",
            "30/30 [==============================] - 1s 20ms/step - loss: 0.4350 - accuracy: 0.8648 - val_loss: 0.4419 - val_accuracy: 0.8461\n",
            "Epoch 11/40\n",
            "30/30 [==============================] - 1s 20ms/step - loss: 0.3992 - accuracy: 0.8739 - val_loss: 0.4128 - val_accuracy: 0.8549\n",
            "Epoch 12/40\n",
            "30/30 [==============================] - 1s 20ms/step - loss: 0.3684 - accuracy: 0.8825 - val_loss: 0.3892 - val_accuracy: 0.8615\n",
            "Epoch 13/40\n",
            "30/30 [==============================] - 1s 20ms/step - loss: 0.3423 - accuracy: 0.8900 - val_loss: 0.3707 - val_accuracy: 0.8623\n",
            "Epoch 14/40\n",
            "30/30 [==============================] - 1s 20ms/step - loss: 0.3195 - accuracy: 0.8945 - val_loss: 0.3542 - val_accuracy: 0.8679\n",
            "Epoch 15/40\n",
            "30/30 [==============================] - 1s 20ms/step - loss: 0.3001 - accuracy: 0.9005 - val_loss: 0.3425 - val_accuracy: 0.8677\n",
            "Epoch 16/40\n",
            "30/30 [==============================] - 1s 20ms/step - loss: 0.2831 - accuracy: 0.9045 - val_loss: 0.3304 - val_accuracy: 0.8723\n",
            "Epoch 17/40\n",
            "30/30 [==============================] - 1s 19ms/step - loss: 0.2678 - accuracy: 0.9087 - val_loss: 0.3215 - val_accuracy: 0.8759\n",
            "Epoch 18/40\n",
            "30/30 [==============================] - 1s 20ms/step - loss: 0.2542 - accuracy: 0.9139 - val_loss: 0.3139 - val_accuracy: 0.8768\n",
            "Epoch 19/40\n",
            "30/30 [==============================] - 1s 20ms/step - loss: 0.2419 - accuracy: 0.9172 - val_loss: 0.3076 - val_accuracy: 0.8800\n",
            "Epoch 20/40\n",
            "30/30 [==============================] - 1s 20ms/step - loss: 0.2311 - accuracy: 0.9204 - val_loss: 0.3022 - val_accuracy: 0.8813\n",
            "Epoch 21/40\n",
            "30/30 [==============================] - 1s 20ms/step - loss: 0.2201 - accuracy: 0.9245 - val_loss: 0.2981 - val_accuracy: 0.8815\n",
            "Epoch 22/40\n",
            "30/30 [==============================] - 1s 19ms/step - loss: 0.2105 - accuracy: 0.9277 - val_loss: 0.2952 - val_accuracy: 0.8815\n",
            "Epoch 23/40\n",
            "30/30 [==============================] - 1s 19ms/step - loss: 0.2017 - accuracy: 0.9319 - val_loss: 0.2922 - val_accuracy: 0.8830\n",
            "Epoch 24/40\n",
            "30/30 [==============================] - 1s 19ms/step - loss: 0.1932 - accuracy: 0.9355 - val_loss: 0.2890 - val_accuracy: 0.8835\n",
            "Epoch 25/40\n",
            "30/30 [==============================] - 1s 20ms/step - loss: 0.1854 - accuracy: 0.9392 - val_loss: 0.2876 - val_accuracy: 0.8845\n",
            "Epoch 26/40\n",
            "30/30 [==============================] - 1s 20ms/step - loss: 0.1780 - accuracy: 0.9423 - val_loss: 0.2867 - val_accuracy: 0.8840\n",
            "Epoch 27/40\n",
            "30/30 [==============================] - 1s 19ms/step - loss: 0.1715 - accuracy: 0.9451 - val_loss: 0.2849 - val_accuracy: 0.8846\n",
            "Epoch 28/40\n",
            "30/30 [==============================] - 1s 20ms/step - loss: 0.1651 - accuracy: 0.9481 - val_loss: 0.2844 - val_accuracy: 0.8850\n",
            "Epoch 29/40\n",
            "30/30 [==============================] - 1s 19ms/step - loss: 0.1585 - accuracy: 0.9510 - val_loss: 0.2842 - val_accuracy: 0.8852\n",
            "Epoch 30/40\n",
            "30/30 [==============================] - 1s 19ms/step - loss: 0.1525 - accuracy: 0.9531 - val_loss: 0.2844 - val_accuracy: 0.8850\n",
            "Epoch 31/40\n",
            "30/30 [==============================] - 1s 19ms/step - loss: 0.1468 - accuracy: 0.9553 - val_loss: 0.2856 - val_accuracy: 0.8852\n",
            "Epoch 32/40\n",
            "30/30 [==============================] - 1s 20ms/step - loss: 0.1417 - accuracy: 0.9574 - val_loss: 0.2878 - val_accuracy: 0.8835\n",
            "Epoch 33/40\n",
            "30/30 [==============================] - 1s 20ms/step - loss: 0.1364 - accuracy: 0.9594 - val_loss: 0.2863 - val_accuracy: 0.8862\n",
            "Epoch 34/40\n",
            "30/30 [==============================] - 1s 20ms/step - loss: 0.1317 - accuracy: 0.9616 - val_loss: 0.2874 - val_accuracy: 0.8849\n",
            "Epoch 35/40\n",
            "30/30 [==============================] - 1s 20ms/step - loss: 0.1271 - accuracy: 0.9631 - val_loss: 0.2887 - val_accuracy: 0.8854\n",
            "Epoch 36/40\n",
            "30/30 [==============================] - 1s 20ms/step - loss: 0.1226 - accuracy: 0.9657 - val_loss: 0.2903 - val_accuracy: 0.8848\n",
            "Epoch 37/40\n",
            "30/30 [==============================] - 1s 19ms/step - loss: 0.1183 - accuracy: 0.9674 - val_loss: 0.2924 - val_accuracy: 0.8846\n",
            "Epoch 38/40\n",
            "30/30 [==============================] - 1s 19ms/step - loss: 0.1142 - accuracy: 0.9686 - val_loss: 0.2943 - val_accuracy: 0.8843\n",
            "Epoch 39/40\n",
            "30/30 [==============================] - 1s 20ms/step - loss: 0.1103 - accuracy: 0.9708 - val_loss: 0.2963 - val_accuracy: 0.8848\n",
            "Epoch 40/40\n",
            "30/30 [==============================] - 1s 21ms/step - loss: 0.1065 - accuracy: 0.9719 - val_loss: 0.2989 - val_accuracy: 0.8833\n"
          ],
          "name": "stdout"
        }
      ]
    },
    {
      "cell_type": "code",
      "metadata": {
        "id": "9gjOyDWnX_79",
        "colab_type": "code",
        "colab": {
          "base_uri": "https://localhost:8080/",
          "height": 53
        },
        "outputId": "d960d7e6-0917-4316-f457-8f7cec6434ba"
      },
      "source": [
        "results = model.evaluate(test_data,  test_labels, verbose=2)\n",
        "\n",
        "print(results)"
      ],
      "execution_count": 15,
      "outputs": [
        {
          "output_type": "stream",
          "text": [
            "782/782 - 1s - loss: 0.3183 - accuracy: 0.8741\n",
            "[0.31826937198638916, 0.8740800023078918]\n"
          ],
          "name": "stdout"
        }
      ]
    },
    {
      "cell_type": "markdown",
      "metadata": {
        "id": "yGFtRvbLYFuz",
        "colab_type": "text"
      },
      "source": [
        "### **정확도와 손실 그래프 그리기**"
      ]
    },
    {
      "cell_type": "code",
      "metadata": {
        "id": "isPds6UFYHAn",
        "colab_type": "code",
        "colab": {
          "base_uri": "https://localhost:8080/",
          "height": 35
        },
        "outputId": "d0cc85ff-1a81-40be-f450-0ffa7e780695"
      },
      "source": [
        "history_dict = history.history\n",
        "history_dict.keys()"
      ],
      "execution_count": 16,
      "outputs": [
        {
          "output_type": "execute_result",
          "data": {
            "text/plain": [
              "dict_keys(['loss', 'accuracy', 'val_loss', 'val_accuracy'])"
            ]
          },
          "metadata": {
            "tags": []
          },
          "execution_count": 16
        }
      ]
    },
    {
      "cell_type": "code",
      "metadata": {
        "id": "3eQcUYo-YJvh",
        "colab_type": "code",
        "colab": {
          "base_uri": "https://localhost:8080/",
          "height": 295
        },
        "outputId": "1976be51-4a3b-4680-d71f-9ba76cb8467a"
      },
      "source": [
        "import matplotlib.pyplot as plt\n",
        "\n",
        "acc = history_dict['accuracy']\n",
        "val_acc = history_dict['val_accuracy']\n",
        "loss = history_dict['loss']\n",
        "val_loss = history_dict['val_loss']\n",
        "\n",
        "epochs = range(1, len(acc) + 1)\n",
        "\n",
        "# \"bo\"는 \"파란색 점\"입니다\n",
        "plt.plot(epochs, loss, 'bo', label='Training loss')\n",
        "# b는 \"파란 실선\"입니다\n",
        "plt.plot(epochs, val_loss, 'b', label='Validation loss')\n",
        "plt.title('Training and validation loss')\n",
        "plt.xlabel('Epochs')\n",
        "plt.ylabel('Loss')\n",
        "plt.legend()\n",
        "\n",
        "plt.show()"
      ],
      "execution_count": 17,
      "outputs": [
        {
          "output_type": "display_data",
          "data": {
            "image/png": "[encoded data removed]",
            "text/plain": [
              "<Figure size 432x288 with 1 Axes>"
            ]
          },
          "metadata": {
            "tags": [],
            "needs_background": "light"
          }
        }
      ]
    },
    {
      "cell_type": "code",
      "metadata": {
        "id": "drLvA7WnYJ1-",
        "colab_type": "code",
        "colab": {
          "base_uri": "https://localhost:8080/",
          "height": 295
        },
        "outputId": "e55f51ba-bbd3-45d2-d6d7-6792a5a4827c"
      },
      "source": [
        "plt.clf()   # 그림을 초기화합니다\n",
        "\n",
        "plt.plot(epochs, acc, 'bo', label='Training acc')\n",
        "plt.plot(epochs, val_acc, 'b', label='Validation acc')\n",
        "plt.title('Training and validation accuracy')\n",
        "plt.xlabel('Epochs')\n",
        "plt.ylabel('Accuracy')\n",
        "plt.legend()\n",
        "\n",
        "plt.show()"
      ],
      "execution_count": 18,
      "outputs": [
        {
          "output_type": "display_data",
          "data": {
            "image/png": "[encoded data removed]",
            "text/plain": [
              "<Figure size 432x288 with 1 Axes>"
            ]
          },
          "metadata": {
            "tags": [],
            "needs_background": "light"
          }
        }
      ]
    }
  ]
}